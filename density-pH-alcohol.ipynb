import pandas as pd
import seaborn as sns
import matplotlib.pyplot as plt
from sklearn.model_selection import train_test_split
from sklearn.tree import DecisionTreeClassifier
from sklearn import tree
from sklearn.metrics import confusion_matrix, mean_squared_error, ConfusionMatrixDisplay
from sklearn.ensemble import RandomForestClassifier
from sklearn.linear_model import LinearRegression
from sklearn.metrics import r2_score
import numpy as np

df = pd.read_csv('wineQT.csv')

print(df.info())
print(df.describe())

correlation_matrix = df[['density', 'pH', 'alcohol', 'quality']].corr()
plt.figure(figsize=(10, 6))
sns.heatmap(correlation_matrix, annot=True, cmap='coolwarm', vmin=-1, vmax=1)
plt.title('Correlation Heatmap')
plt.show()


X = df[['density', 'pH', 'alcohol']]
y = df['quality']

X_train, X_test, y_train, y_test = train_test_split(X, y, test_size=0.3, random_state=42)

model = DecisionTreeClassifier(max_depth=4)
model.fit(X_train, y_train)

plt.figure(figsize=(20, 10))
tree.plot_tree(model, feature_names=['density', 'pH', 'alcohol'], class_names=[str(i) for i in sorted(y.unique())], filled=True)
plt.title('Decision Tree')
plt.show()

fig, axes = plt.subplots(3, 3, figsize=(24, 15))
fig.suptitle('Comparison of Density, pH, and Alcohol with Quality', fontsize=16)
features = ['density', 'pH', 'alcohol']
for i, feature in enumerate(features):
    sns.boxplot(x='quality', y=feature, data=df, ax=axes[i, 0])
    axes[i, 0].set_title(f'Boxplot of {feature}')
    sns.scatterplot(x='quality', y=feature, data=df, ax=axes[i, 1])
    axes[i, 1].set_title(f'Scatterplot of {feature}')
    sns.violinplot(x='quality', y=feature, data=df, ax=axes[i, 2])
    axes[i, 2].set_title(f'Violinplot of {feature}')
plt.tight_layout(rect=[0, 0, 1, 0.96])
plt.show()


y_pred = model.predict(X_test)
all_labels = np.unique(np.concatenate((y_test, y_pred)))
conf_matrix = confusion_matrix(y_test, y_pred, labels=all_labels)
disp = ConfusionMatrixDisplay(confusion_matrix=conf_matrix, display_labels=all_labels)
disp.plot(cmap='Blues')
plt.title('Confusion Matrix')
plt.show()


mse = mean_squared_error(y_test, y_pred)
print(f'Mean Squared Error: {mse}')

rf_model = RandomForestClassifier(n_estimators=100, random_state=42)
rf_model.fit(X_train, y_train)
y_rf_pred = rf_model.predict(X_test)
rf_mse = mean_squared_error(y_test, y_rf_pred)
print(f'Random Forest Mean Squared Error: {rf_mse}')


lin_reg = LinearRegression()
lin_reg.fit(X_train, y_train)
y_pred_train = lin_reg.predict(X_train)
y_pred_test = lin_reg.predict(X_test)

print("Coefficients:", lin_reg.coef_)
print("Intercept:", lin_reg.intercept_)

mse_train = mean_squared_error(y_train, y_pred_train)
mse_test = mean_squared_error(y_test, y_pred_test)
r2_train = r2_score(y_train, y_pred_train)
r2_test = r2_score(y_test, y_pred_test)

print(f'Train Mean Squared Error: {mse_train}')
print(f'Test Mean Squared Error: {mse_test}')
print(f'Train R^2 Score: {r2_train}')
print(f'Test R^2 Score: {r2_test}')


plt.figure(figsize=(10, 6))
plt.scatter(y_test, y_pred_test, alpha=0.6)
plt.plot([min(y_test), max(y_test)], [min(y_test), max(y_test)], color='red', linestyle='--')
plt.xlabel('Actual Quality')
plt.ylabel('Predicted Quality')
plt.title('Actual vs Predicted Quality (Test Set)')
plt.show()

